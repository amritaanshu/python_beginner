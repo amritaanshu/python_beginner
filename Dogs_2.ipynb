{
  "nbformat": 4,
  "nbformat_minor": 0,
  "metadata": {
    "colab": {
      "provenance": []
    },
    "kernelspec": {
      "name": "python3",
      "display_name": "Python 3"
    },
    "language_info": {
      "name": "python"
    }
  },
  "cells": [
    {
      "cell_type": "code",
      "execution_count": 1,
      "metadata": {
        "colab": {
          "base_uri": "https://localhost:8080/"
        },
        "id": "DWeXXLofHKRb",
        "outputId": "26492a87-63a3-4a06-89c3-8224cb9c4689"
      },
      "outputs": [
        {
          "output_type": "stream",
          "name": "stdout",
          "text": [
            "['Tiger', 'Dead', 4, 'Sheru', 1]\n"
          ]
        }
      ],
      "source": [
        "items = [\"Tiger\", 4, \"Sheru\", 1]\n",
        "items.insert(1, \"Dead\")\n",
        "print(items)"
      ]
    }
  ]
}