{
  "nbformat": 4,
  "nbformat_minor": 0,
  "metadata": {
    "colab": {
      "provenance": []
    },
    "kernelspec": {
      "name": "python3",
      "display_name": "Python 3"
    },
    "language_info": {
      "name": "python"
    }
  },
  "cells": [
    {
      "cell_type": "code",
      "execution_count": 3,
      "metadata": {
        "colab": {
          "base_uri": "https://localhost:8080/"
        },
        "id": "xZmSfQ0xPmTw",
        "outputId": "88f04f19-5b69-46be-fd72-7b1476bbf77e"
      },
      "outputs": [
        {
          "output_type": "stream",
          "name": "stdout",
          "text": [
            "True\n",
            "{'syd'}\n",
            "{'syd', 'roger'}\n",
            "{'roger'}\n"
          ]
        }
      ],
      "source": [
        "#sets\n",
        "set1 = {\"roger\", \"syd\"}\n",
        "set2 = {\"roger\"}\n",
        "intersect = set1 & set2\n",
        "mod1 = set1 | set2\n",
        "mod2 = set1 - set2\n",
        "mod3 = set1 > set2\n",
        "print(mod3)\n",
        "print(mod2)\n",
        "print(mod1)\n",
        "print(intersect)"
      ]
    },
    {
      "cell_type": "code",
      "source": [
        "#funtion\n",
        "\n",
        "def hello(name, age):\n",
        "  print('hello' + name + \",you are\" +  str(age) +  \"years old\")\n",
        "hello(\"Beau\", 39)\n",
        "\n",
        "def change(value):\n",
        "  value = 2\n",
        "val = 1\n",
        "change (val)\n",
        "print(val)\n",
        "\n"
      ],
      "metadata": {
        "colab": {
          "base_uri": "https://localhost:8080/"
        },
        "id": "d1KxCLitR1Lz",
        "outputId": "12adbe04-fbcb-4f00-8a91-abf0b2911ce4"
      },
      "execution_count": 11,
      "outputs": [
        {
          "output_type": "stream",
          "name": "stdout",
          "text": [
            "helloBeau,you are39years old\n",
            "1\n"
          ]
        }
      ]
    },
    {
      "cell_type": "code",
      "source": [
        "#funtions\n",
        "\n",
        "def hello(name):\n",
        "  print('hello' + name + '!')\n",
        "  return name, \"beau\",8\n",
        "  print(hello(\"syd\"))"
      ],
      "metadata": {
        "id": "01s5VuEHVt9b"
      },
      "execution_count": 18,
      "outputs": []
    },
    {
      "cell_type": "code",
      "source": [
        "#funtions\n",
        "\n",
        "def counter():\n",
        "    count = 0\n",
        "    def increment():\n",
        "      nonlocal count\n",
        "      count = count + 1\n",
        "      return count\n",
        "\n",
        "    return increment\n",
        "increment = counter()\n",
        "print(increment()) #1\n",
        "print(increment()) #2\n",
        "print(increment()) #3\n",
        "\n",
        "\n",
        "\n",
        "\n"
      ],
      "metadata": {
        "colab": {
          "base_uri": "https://localhost:8080/"
        },
        "id": "EvI0UEI3XE_i",
        "outputId": "b44e8e4f-9240-42bd-e5ff-eccdebfdec47"
      },
      "execution_count": 29,
      "outputs": [
        {
          "output_type": "stream",
          "name": "stdout",
          "text": [
            "1\n",
            "2\n",
            "3\n"
          ]
        }
      ]
    },
    {
      "cell_type": "code",
      "source": [
        "#Objects\n",
        "items = [1, 2]\n",
        "items.append(3)\n",
        "items.pop()\n",
        "print(id(items))"
      ],
      "metadata": {
        "colab": {
          "base_uri": "https://localhost:8080/"
        },
        "id": "Er0WRgiuaNyD",
        "outputId": "7ed012ee-1f9c-4935-e25a-6afc65f56250"
      },
      "execution_count": 26,
      "outputs": [
        {
          "output_type": "stream",
          "name": "stdout",
          "text": [
            "139063650186496\n"
          ]
        }
      ]
    },
    {
      "cell_type": "code",
      "source": [
        "#Loops\n",
        "\n",
        "count = 0\n",
        "while count < 10:\n",
        "  print(\"The condition is True\")\n",
        "  count = count + 1\n",
        "\n",
        "  print(\"After the loop\")\n",
        "\n"
      ],
      "metadata": {
        "colab": {
          "base_uri": "https://localhost:8080/"
        },
        "id": "aPeP4PISbyO1",
        "outputId": "8e03d23c-eaa7-405c-d38c-d4d94ce00b0d"
      },
      "execution_count": 31,
      "outputs": [
        {
          "output_type": "stream",
          "name": "stdout",
          "text": [
            "The condition is True\n",
            "After the loop\n",
            "The condition is True\n",
            "After the loop\n",
            "The condition is True\n",
            "After the loop\n",
            "The condition is True\n",
            "After the loop\n",
            "The condition is True\n",
            "After the loop\n",
            "The condition is True\n",
            "After the loop\n",
            "The condition is True\n",
            "After the loop\n",
            "The condition is True\n",
            "After the loop\n",
            "The condition is True\n",
            "After the loop\n",
            "The condition is True\n",
            "After the loop\n"
          ]
        }
      ]
    },
    {
      "cell_type": "code",
      "source": [
        "#Loops\n",
        "\n",
        "for item in range(15):\n",
        "  print(item)\n",
        "items = [1, 2, 3, 4]\n",
        "for index, item in enumerate(items):\n",
        "  print(index, item)"
      ],
      "metadata": {
        "colab": {
          "base_uri": "https://localhost:8080/"
        },
        "id": "H7hXLZOsc5N4",
        "outputId": "cecd62b3-3ac0-421b-897d-a4170009c310"
      },
      "execution_count": 35,
      "outputs": [
        {
          "output_type": "stream",
          "name": "stdout",
          "text": [
            "0\n",
            "1\n",
            "2\n",
            "3\n",
            "4\n",
            "5\n",
            "6\n",
            "7\n",
            "8\n",
            "9\n",
            "10\n",
            "11\n",
            "12\n",
            "13\n",
            "14\n",
            "0 1\n",
            "1 2\n",
            "2 3\n",
            "3 4\n"
          ]
        }
      ]
    },
    {
      "cell_type": "code",
      "source": [
        "#Classes\n",
        "\n",
        "class Animal:\n",
        "  def walk(self):\n",
        "    print(\"walking...\")\n",
        "\n",
        "class Dog(Animal):\n",
        "  def __init__(self, name, age):\n",
        "    self.name = name\n",
        "    self.age = age\n",
        "\n",
        "  def bark(self):\n",
        "    print(\"woof!\")\n",
        "\n",
        "roger = Dog(\"Roger\", 8)\n",
        "\n",
        "print(roger.name)\n",
        "print(roger.age)\n",
        "roger.bark()\n",
        "roger.walk()"
      ],
      "metadata": {
        "colab": {
          "base_uri": "https://localhost:8080/"
        },
        "id": "UyPiTkvzeY38",
        "outputId": "1db6e4ea-1087-4023-be9e-0aca3a5c8844"
      },
      "execution_count": 40,
      "outputs": [
        {
          "output_type": "stream",
          "name": "stdout",
          "text": [
            "Roger\n",
            "8\n",
            "woof!\n",
            "walking...\n"
          ]
        }
      ]
    },
    {
      "cell_type": "code",
      "source": [
        "#Lambda Function\n",
        "\n",
        "lambda num : num * 2\n",
        "\n",
        "multiply = lambda a, b : a * b\n",
        "\n",
        "print(multiply(2, 4))"
      ],
      "metadata": {
        "colab": {
          "base_uri": "https://localhost:8080/"
        },
        "id": "mSNnCxR7glTL",
        "outputId": "05b79317-87a7-4076-d221-99bb6be9a81d"
      },
      "execution_count": 44,
      "outputs": [
        {
          "output_type": "stream",
          "name": "stdout",
          "text": [
            "8\n"
          ]
        }
      ]
    },
    {
      "cell_type": "code",
      "source": [
        "#map(), filter(), reduce()\n",
        "\n",
        "numbers = [1, 2,  3]\n",
        "\n",
        "def double(a):\n",
        "  return a * 2\n",
        "\n",
        "result = map(double, numbers)\n",
        "\n",
        "print(list(result))\n"
      ],
      "metadata": {
        "colab": {
          "base_uri": "https://localhost:8080/"
        },
        "id": "RUcNElvhlR9v",
        "outputId": "d3cdd014-5796-46ee-d091-2e22b97ae150"
      },
      "execution_count": 46,
      "outputs": [
        {
          "output_type": "stream",
          "name": "stdout",
          "text": [
            "[2, 4, 6]\n"
          ]
        }
      ]
    }
  ]
}