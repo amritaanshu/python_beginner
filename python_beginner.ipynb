{
  "nbformat": 4,
  "nbformat_minor": 0,
  "metadata": {
    "colab": {
      "provenance": []
    },
    "kernelspec": {
      "name": "python3",
      "display_name": "Python 3"
    },
    "language_info": {
      "name": "python"
    }
  },
  "cells": [
    {
      "cell_type": "code",
      "execution_count": 1,
      "metadata": {
        "colab": {
          "base_uri": "https://localhost:8080/"
        },
        "id": "hodU5tUnBZBg",
        "outputId": "1ac8a071-e0d0-4e52-b34c-e96398ad7612"
      },
      "outputs": [
        {
          "output_type": "stream",
          "name": "stdout",
          "text": [
            "what is your age? 18\n",
            "your age is 18\n"
          ]
        }
      ],
      "source": [
        "age = input(\"what is your age? \")\n",
        "print(\"your age is \" + age )"
      ]
    },
    {
      "cell_type": "code",
      "source": [
        "dogs = [\"Roger\", 1, \"Syd\", True]\n",
        "\n",
        "dogs[2] = \"Beau\"\n",
        "dogs.extend([\"Judah\", 5])\n",
        "dogs.remove(\"Judah\")\n",
        "print(dogs)\n"
      ],
      "metadata": {
        "colab": {
          "base_uri": "https://localhost:8080/"
        },
        "id": "YqXsdXfeKc2B",
        "outputId": "c5157331-7dca-4c37-ff18-a12f7b0b127e"
      },
      "execution_count": 10,
      "outputs": [
        {
          "output_type": "stream",
          "name": "stdout",
          "text": [
            "['Roger', 1, 'Beau', True, 5]\n"
          ]
        }
      ]
    },
    {
      "cell_type": "code",
      "source": [
        "items = [\"Roger\", 1, \"Syd\", True, \"Quincy\", 7]\n",
        "\n",
        "items.insert(2, \"Test\")\n",
        "print(items)"
      ],
      "metadata": {
        "colab": {
          "base_uri": "https://localhost:8080/"
        },
        "id": "8rj6CYjnNSBE",
        "outputId": "6523f1dd-183a-4d21-d860-fe7a03e50634"
      },
      "execution_count": 11,
      "outputs": [
        {
          "output_type": "stream",
          "name": "stdout",
          "text": [
            "['Roger', 1, 'Test', 'Syd', True, 'Quincy', 7]\n"
          ]
        }
      ]
    },
    {
      "cell_type": "code",
      "source": [
        "items = [\"Roger\", \"bob\", \"Beau\", \"Quincy\"]\n",
        "\n",
        "print(sorted(items, key=str.lower))\n",
        "print(items)\n"
      ],
      "metadata": {
        "colab": {
          "base_uri": "https://localhost:8080/"
        },
        "id": "c6hfYi_1OCTM",
        "outputId": "afae031a-1f76-42d0-b3c4-3165f4e0dd85"
      },
      "execution_count": 16,
      "outputs": [
        {
          "output_type": "stream",
          "name": "stdout",
          "text": [
            "['Beau', 'bob', 'Quincy', 'Roger']\n",
            "['Roger', 'bob', 'Beau', 'Quincy']\n"
          ]
        }
      ]
    },
    {
      "cell_type": "code",
      "source": [
        "#Tuples\n",
        "names = (\"Roger\", \"Syd\")\n",
        "\n",
        "names[-1]\n",
        "names.index(\"Roger\")\n",
        "\n",
        "len(names)\n",
        "\n",
        "print(\"Roger\" in names)\n",
        "print(sorted(names))\n",
        "newTuple = names + (\"tina\", \"Quincy\")"
      ],
      "metadata": {
        "colab": {
          "base_uri": "https://localhost:8080/"
        },
        "id": "5qWI1w15PiDj",
        "outputId": "a72798e2-6d07-43ba-ef82-8dc2a54db945"
      },
      "execution_count": 18,
      "outputs": [
        {
          "output_type": "stream",
          "name": "stdout",
          "text": [
            "True\n",
            "['Roger', 'Syd']\n"
          ]
        }
      ]
    },
    {
      "cell_type": "code",
      "source": [
        "#Dictionaries\n",
        "\n",
        "dog = {\"name\": \"Roger\", \"age\": 8, \"color\": \"green\"}\n",
        "\n",
        "dog[\"name\"] = \"Syd\"\n",
        "dog[\"favorite food\"] = \"Meat\"\n",
        "del dog['color']\n",
        "print(dog)\n",
        "print(dog.get(\"color\", \"brown\"))\n",
        "print(dog.pop(\"name\"))"
      ],
      "metadata": {
        "colab": {
          "base_uri": "https://localhost:8080/"
        },
        "id": "UohfI6-sQ5e0",
        "outputId": "85bddbcb-d707-4961-a188-39db109b8a10"
      },
      "execution_count": 23,
      "outputs": [
        {
          "output_type": "stream",
          "name": "stdout",
          "text": [
            "{'name': 'Syd', 'age': 8, 'favorite food': 'Meat'}\n",
            "brown\n",
            "Syd\n"
          ]
        }
      ]
    }
  ]
}