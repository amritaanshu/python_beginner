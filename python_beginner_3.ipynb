{
  "nbformat": 4,
  "nbformat_minor": 0,
  "metadata": {
    "colab": {
      "provenance": []
    },
    "kernelspec": {
      "name": "python3",
      "display_name": "Python 3"
    },
    "language_info": {
      "name": "python"
    }
  },
  "cells": [
    {
      "cell_type": "code",
      "execution_count": 1,
      "metadata": {
        "colab": {
          "base_uri": "https://localhost:8080/"
        },
        "id": "FT5eAjyMYN-H",
        "outputId": "73712a24-14fb-43be-905e-22cb2ef61ac7"
      },
      "outputs": [
        {
          "output_type": "stream",
          "name": "stdout",
          "text": [
            "[2]\n"
          ]
        }
      ],
      "source": [
        "#map(), #filter(), #reduce()\n",
        "\n",
        "numbers = [1, 2, 3]\n",
        "\n",
        "def isEven(n):\n",
        "  return n % 2 == 0\n",
        "\n",
        "result = filter(isEven, numbers)\n",
        "\n",
        "print(list(result))"
      ]
    },
    {
      "cell_type": "code",
      "source": [
        "#Recursion\n",
        "\n",
        "def factorial(n):\n",
        "  if n ==1: return 1\n",
        "  return n * factorial(n-1)\n",
        "\n",
        "  print(factorial(3))\n",
        "  print(factorial(4))\n",
        "  print(factorial(5))"
      ],
      "metadata": {
        "id": "I2056_AGZ9Mu"
      },
      "execution_count": 8,
      "outputs": []
    },
    {
      "cell_type": "code",
      "source": [
        "#Decorators\n",
        "\n",
        "def logtime(func):\n",
        "  def wrapper():\n",
        "    print(\"before\")\n",
        "    val = func()\n",
        "    print(\"after\")\n",
        "    return val\n",
        "  return wrapper\n",
        "@logtime\n",
        "def hello():\n",
        "  print(\"hello\")\n",
        "\n",
        "hello()"
      ],
      "metadata": {
        "colab": {
          "base_uri": "https://localhost:8080/"
        },
        "id": "Jyl2Y2fucafW",
        "outputId": "b7b5edd9-6b59-4d49-83d8-11170bf74970"
      },
      "execution_count": 9,
      "outputs": [
        {
          "output_type": "stream",
          "name": "stdout",
          "text": [
            "before\n",
            "hello\n",
            "after\n"
          ]
        }
      ]
    },
    {
      "cell_type": "code",
      "source": [
        "from os import name\n",
        "#Docstrings\n",
        "\"\"\"Dog module\n",
        "\n",
        "This module does ... bla bla bla and provides the following classes:\n",
        "\n",
        "- Dog\n",
        "\n",
        "...\n",
        "\"\"\"\n",
        "\n",
        "class Dog:\n",
        "  \"\"\" A class representing a dog\"\"\"\n",
        "  def __init__(self, nam, age):\n",
        "    \"\"\"initialize a new dog\"\"\"\n",
        "    self.name = name\n",
        "    self.age = age\n",
        "    \"\"\"Let the dog bark\"\"\"\n",
        "    print('WOF!')\n",
        "\n",
        "print(help(Dog))\n"
      ],
      "metadata": {
        "colab": {
          "base_uri": "https://localhost:8080/"
        },
        "id": "O110gW3Wdrrw",
        "outputId": "8e4e3f72-bb76-4232-b913-0d411e17439c"
      },
      "execution_count": 10,
      "outputs": [
        {
          "output_type": "stream",
          "name": "stdout",
          "text": [
            "Help on class Dog in module __main__:\n",
            "\n",
            "class Dog(builtins.object)\n",
            " |  Dog(nam, age)\n",
            " |  \n",
            " |  A class representing a dog\n",
            " |  \n",
            " |  Methods defined here:\n",
            " |  \n",
            " |  __init__(self, nam, age)\n",
            " |      initialize a new dog\n",
            " |  \n",
            " |  ----------------------------------------------------------------------\n",
            " |  Data descriptors defined here:\n",
            " |  \n",
            " |  __dict__\n",
            " |      dictionary for instance variables (if defined)\n",
            " |  \n",
            " |  __weakref__\n",
            " |      list of weak references to the object (if defined)\n",
            "\n",
            "None\n"
          ]
        }
      ]
    },
    {
      "cell_type": "code",
      "source": [
        "#Annotations\n",
        "\n",
        "def increment(n: int) -> int:\n",
        "  return n + 1\n",
        "\n",
        "count: int = 0"
      ],
      "metadata": {
        "id": "7lVy126nfqGu"
      },
      "execution_count": 11,
      "outputs": []
    },
    {
      "cell_type": "code",
      "source": [
        "#Execption\n",
        "\n",
        "try:\n",
        "  result = 2 / 0\n",
        "except ZeroDivisionError:\n",
        " print('Cannot divide by Zero!')\n",
        "finally:\n",
        "  result = 1\n",
        "\n",
        "  print(result) #1\n",
        "\n",
        "try:\n",
        "  raise Exception('An error!')\n",
        "except Exception as error:\n",
        "  print(error)\n",
        "\n",
        "class DogNotFoundException(Exception):\n",
        "  pass\n",
        "\n",
        "try:\n",
        "  raise DogNotFoundException()\n",
        "except DogNotFoundException:\n",
        "  print('Dog not found!')"
      ],
      "metadata": {
        "colab": {
          "base_uri": "https://localhost:8080/"
        },
        "id": "TW6TDkhEgN-L",
        "outputId": "0680fd06-a62a-40e6-d9ca-5f7c8e3e807c"
      },
      "execution_count": 16,
      "outputs": [
        {
          "output_type": "stream",
          "name": "stdout",
          "text": [
            "Cannot divide by Zero!\n",
            "1\n",
            "An error!\n",
            "Dog not found!\n"
          ]
        }
      ]
    },
    {
      "cell_type": "code",
      "source": [
        "#List Compressions\n",
        "\n",
        "numbers = [1, 2, 3, 4, 5]\n",
        "\n",
        "numbers_power_2 = [n**2 for n in numbers]\n",
        "\n",
        "print(numbers_power_2)\n",
        "\n",
        "numbers_power_2 = []\n",
        "for n in numbers:\n",
        " numbers_power_2.append(n**2)\n",
        "\n",
        "numbers_power_2 = list(map(lambda n : n**2, numbers))"
      ],
      "metadata": {
        "colab": {
          "base_uri": "https://localhost:8080/"
        },
        "id": "s7fN_okQjoyF",
        "outputId": "5a35c0b5-d41b-4c11-adea-f9fddecf8c32"
      },
      "execution_count": 18,
      "outputs": [
        {
          "output_type": "stream",
          "name": "stdout",
          "text": [
            "[1, 4, 9, 16, 25]\n"
          ]
        }
      ]
    },
    {
      "cell_type": "code",
      "source": [
        "#Polymorphis\n",
        "\n",
        "class Dog:\n",
        "  def eat(self):\n",
        "    print('Eating dog food')\n",
        "\n",
        "class Cat:\n",
        "  def eat(self):\n",
        "   print('Eating cat food')\n",
        "\n",
        "animal1 = Dog()\n",
        "animal2 = Cat()\n",
        "\n",
        "animal1.eat()\n",
        "animal2.eat()"
      ],
      "metadata": {
        "colab": {
          "base_uri": "https://localhost:8080/"
        },
        "id": "WNnk0R4olbgo",
        "outputId": "a33f15b0-2371-4334-f4a4-1ea206b59a17"
      },
      "execution_count": 20,
      "outputs": [
        {
          "output_type": "stream",
          "name": "stdout",
          "text": [
            "Eating dog food\n",
            "Eating cat food\n"
          ]
        }
      ]
    },
    {
      "cell_type": "code",
      "source": [
        "#Operator Overloding\n",
        "\n",
        "class Dog:\n",
        "  #the Dog class\n",
        "  def __init__(self, name, age):\n",
        "    self.name = name\n",
        "    self.age = age\n",
        "  def __gt__(self, other):\n",
        "    return True if self.age > other.age else False\n",
        "\n",
        "roger = Dog('Roger', 8)\n",
        "syd = Dog('Syd', 7)\n",
        "\n",
        "print(roger > syd)"
      ],
      "metadata": {
        "colab": {
          "base_uri": "https://localhost:8080/"
        },
        "id": "wE1Qh7ylmk-X",
        "outputId": "f3646974-adf8-41e9-f059-560515b129f4"
      },
      "execution_count": 21,
      "outputs": [
        {
          "output_type": "stream",
          "name": "stdout",
          "text": [
            "True\n"
          ]
        }
      ]
    }
  ]
}