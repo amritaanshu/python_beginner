{
  "nbformat": 4,
  "nbformat_minor": 0,
  "metadata": {
    "colab": {
      "provenance": []
    },
    "kernelspec": {
      "name": "python3",
      "display_name": "Python 3"
    },
    "language_info": {
      "name": "python"
    }
  },
  "cells": [
    {
      "cell_type": "code",
      "execution_count": 1,
      "metadata": {
        "colab": {
          "base_uri": "https://localhost:8080/"
        },
        "id": "f71QAHF-ylOc",
        "outputId": "e056a23e-634f-490e-ab44-52e0a544739f"
      },
      "outputs": [
        {
          "output_type": "stream",
          "name": "stdout",
          "text": [
            "Tiger Sheru\n"
          ]
        }
      ],
      "source": [
        "dog1 = \"Tiger\"\n",
        "dog2 = \"Sheru\"\n",
        "\n",
        "print(dog1, dog2)"
      ]
    }
  ]
}